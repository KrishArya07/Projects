{
 "cells": [
  {
   "cell_type": "markdown",
   "metadata": {},
   "source": [
    "Numerical: int, fload, complex\n",
    "Order: list, tuple, string\n",
    "Unorder: dict, set\n"
   ]
  },
  {
   "cell_type": "code",
   "execution_count": 2,
   "metadata": {},
   "outputs": [
    {
     "name": "stdout",
     "output_type": "stream",
     "text": [
      "Va1ue of c is (7+3j) and type of c is <class 'complex'>\n",
      "Rea1 value is 7.0 Imag value is 3.0\n"
     ]
    }
   ],
   "source": [
    "c=7+3j\n",
    "print(f\"Va1ue of c is {c} and type of c is {type(c)}\")\n",
    "print(f\"Rea1 value is {c. real} Imag value is {c. imag}\")"
   ]
  },
  {
   "cell_type": "code",
   "execution_count": 10,
   "metadata": {},
   "outputs": [
    {
     "name": "stdout",
     "output_type": "stream",
     "text": [
      "Va1ue of name = krish and type of name = <class 'str'>\n",
      "rh\n",
      "Non palin\n"
     ]
    }
   ],
   "source": [
    "name = \"krish\"\n",
    "print(f\"Va1ue of name = {name} and type of name = {type(name)}\")\n",
    "print(name[1:5:3])\n",
    "n=name[-1: : -1]\n",
    "if name==n:\n",
    "    print (\"palin\")\n",
    "else:\n",
    "    print (\"Non palin\")"
   ]
  },
  {
   "cell_type": "markdown",
   "metadata": {},
   "source": [
    "List:\n",
    "It a collection of different type of data.\n",
    "It is mutable in nature.\n",
    "We can create list with the help of [].\n",
    "It is not suitable for memory optimization.\n",
    " \n",
    "\n",
    "\n"
   ]
  },
  {
   "cell_type": "code",
   "execution_count": 11,
   "metadata": {},
   "outputs": [
    {
     "name": "stdout",
     "output_type": "stream",
     "text": [
      "Va1ue of info is ['raj', 'krish', 'dev', 1, 2, 3, 60.5, 99.9, 71.5] and type of info is <class 'list'>\n"
     ]
    }
   ],
   "source": [
    "info = ['raj','krish','dev',1,2,3,60.5,99.9,71.5]\n",
    "print(f\"Va1ue of info is {info} and type of info is {type(info)}\")"
   ]
  },
  {
   "cell_type": "code",
   "execution_count": 14,
   "metadata": {},
   "outputs": [
    {
     "name": "stdout",
     "output_type": "stream",
     "text": [
      "['raj', 'krish', 'dev']\n",
      "[1, 2, 3]\n",
      "[60.5, 99.9, 71.5]\n"
     ]
    }
   ],
   "source": [
    "name=[]\n",
    "roll_no=[]\n",
    "percentage=[]\n",
    "for i in info:\n",
    "     if type(i)==str:\n",
    "          name.append(i)\n",
    "     elif type(i)==int:\n",
    "          roll_no.append(i)\n",
    "     else:\n",
    "          percentage.append(i)\n",
    "\n",
    "print(name)\n",
    "print(roll_no)\n",
    "print(percentage)\n",
    "\n",
    "  \n",
    "\n",
    "        \n",
    "          "
   ]
  },
  {
   "cell_type": "markdown",
   "metadata": {},
   "source": [
    "Tuple:\n",
    "It a collection of different type of data.\n",
    "It is immutable in nature.\n",
    "We can create tuple with the help of ().\n",
    "It is suitable for memory optimization.\n",
    " \n",
    "\n"
   ]
  },
  {
   "cell_type": "code",
   "execution_count": 19,
   "metadata": {},
   "outputs": [
    {
     "name": "stdout",
     "output_type": "stream",
     "text": [
      "info of user1 is ('krish', 15, 99.9, 5, 5) type of data structure is<class 'tuple'>\n",
      "2\n",
      "3\n"
     ]
    }
   ],
   "source": [
    "user1=('krish',15,99.9,5,5 )\n",
    "print(f\"info of user1 is {user1} type of data structure is{type(user1)}\")\n",
    "print(user1.count(5)) \n",
    "print(user1.index(5))"
   ]
  },
  {
   "cell_type": "markdown",
   "metadata": {},
   "source": [
    "Set:\n",
    "It is collection of different type of  elements.\n",
    "It is mutable in nature.\n",
    "Don't contain the duplicate values.\n",
    "we can create the set with the help of {}."
   ]
  },
  {
   "cell_type": "code",
   "execution_count": 22,
   "metadata": {},
   "outputs": [
    {
     "data": {
      "text/plain": [
       "{'dancing', 'singing'}"
      ]
     },
     "execution_count": 22,
     "metadata": {},
     "output_type": "execute_result"
    }
   ],
   "source": [
    "person_hobbies={'dancing','singing','dancing'}\n",
    "person_hobbies\n"
   ]
  },
  {
   "cell_type": "markdown",
   "metadata": {},
   "source": [
    "Dictionaries:\n",
    "It is collecion of key and value pair.\n",
    "We can create it with the help of {}.\n",
    "It is mutable in nature."
   ]
  },
  {
   "cell_type": "code",
   "execution_count": 33,
   "metadata": {},
   "outputs": [
    {
     "name": "stdout",
     "output_type": "stream",
     "text": [
      "['raj', 'krish', 'dev']\n",
      "raj\n"
     ]
    },
    {
     "data": {
      "text/plain": [
       "[60.5, 99.9, 71.5]"
      ]
     },
     "execution_count": 33,
     "metadata": {},
     "output_type": "execute_result"
    }
   ],
   "source": [
    "student_info={'Name':name,'Roll_No':roll_no,'Percentage':percentage}\n",
    "print(student_info['Name'])\n",
    "i= min(student_info['Percentage'])\n",
    "print(student_info['Name'][student_info['Percentage'].index(i) ])\n",
    "student_info['Percentage']"
   ]
  },
  {
   "cell_type": "markdown",
   "metadata": {},
   "source": []
  }
 ],
 "metadata": {
  "kernelspec": {
   "display_name": "Python 3",
   "language": "python",
   "name": "python3"
  },
  "language_info": {
   "codemirror_mode": {
    "name": "ipython",
    "version": 3
   },
   "file_extension": ".py",
   "mimetype": "text/x-python",
   "name": "python",
   "nbconvert_exporter": "python",
   "pygments_lexer": "ipython3",
   "version": "3.12.4"
  }
 },
 "nbformat": 4,
 "nbformat_minor": 2
}
